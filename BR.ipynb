{
 "cells": [
  {
   "cell_type": "code",
   "execution_count": 1,
   "metadata": {
    "ExecuteTime": {
     "end_time": "2021-03-30T05:01:00.276174Z", 
     "start_time": "2021-03-30T05:00:59.829143Z"
    }
   },
   "outputs": [],
   "source": [
    "import pandas as pd \n",
    "import numpy as np"
   ]
  },
  {
   "cell_type": "code",
   "execution_count": 2,
   "metadata": {
    "ExecuteTime": {
     "end_time": "2021-03-30T05:01:01.829574Z",
     "start_time": "2021-03-30T05:01:01.146184Z"
    }
   },
   "outputs": [],
   "source": [
    "data = pd.read_csv(\"GoodreadsBooks.csv\")\n"
   ]
  },
  {
   "cell_type": "code",
   "execution_count": 3,
   "metadata": {
    "ExecuteTime": {
     "end_time": "2021-03-30T05:01:02.430462Z",
     "start_time": "2021-03-30T05:01:02.425458Z"
    }
   },
   "outputs": [],
   "source": [
    "x = data.head(600)\n"
   ]
  },
  {
   "cell_type": "code",
   "execution_count": 4,
   "metadata": {
    "ExecuteTime": {
     "end_time": "2021-03-30T05:01:03.622094Z",
     "start_time": "2021-03-30T05:01:03.477319Z"
    }
   },
   "outputs": [
    {
     "data": {
      "text/html": [
       "<div>\n",
       "<style scoped>\n",
       "    .dataframe tbody tr th:only-of-type {\n",
       "        vertical-align: middle;\n",
       "    }\n",
       "\n",
       "    .dataframe tbody tr th {\n",
       "        vertical-align: top;\n",
       "    }\n",
       "\n",
       "    .dataframe thead th {\n",
       "        text-align: right;\n",
       "    }\n",
       "</style>\n",
       "<table border=\"1\" class=\"dataframe\">\n",
       "  <thead>\n",
       "    <tr style=\"text-align: right;\">\n",
       "      <th></th>\n",
       "      <th>Unnamed: 0</th>\n",
       "      <th>bookId</th>\n",
       "      <th>title</th>\n",
       "      <th>author</th>\n",
       "      <th>series</th>\n",
       "      <th>description</th>\n",
       "      <th>genres</th>\n",
       "      <th>num_ratings</th>\n",
       "      <th>num_reviews</th>\n",
       "      <th>avg_rating</th>\n",
       "      <th>rated_1</th>\n",
       "      <th>rated_2</th>\n",
       "      <th>rated_3</th>\n",
       "      <th>rated_4</th>\n",
       "      <th>rated_5</th>\n",
       "    </tr>\n",
       "  </thead>\n",
       "  <tbody>\n",
       "    <tr>\n",
       "      <th>0</th>\n",
       "      <td>0</td>\n",
       "      <td>1</td>\n",
       "      <td>Harry Potter and the Half-Blood Prince</td>\n",
       "      <td>J.K. Rowling</td>\n",
       "      <td>Harry Potter #6</td>\n",
       "      <td>The war against Voldemort is not going well; e...</td>\n",
       "      <td>Fantasy</td>\n",
       "      <td>2553909.0</td>\n",
       "      <td>41470.0</td>\n",
       "      <td>4.57</td>\n",
       "      <td>13147.0</td>\n",
       "      <td>29020.0</td>\n",
       "      <td>174312.0</td>\n",
       "      <td>608825.0</td>\n",
       "      <td>1728605.0</td>\n",
       "    </tr>\n",
       "    <tr>\n",
       "      <th>1</th>\n",
       "      <td>1</td>\n",
       "      <td>2</td>\n",
       "      <td>Harry Potter and the Order of the Phoenix</td>\n",
       "      <td>J.K. Rowling,Mary GrandPré</td>\n",
       "      <td>Harry Potter #5</td>\n",
       "      <td>There is a door at the end of a silent corrido...</td>\n",
       "      <td>Fantasy</td>\n",
       "      <td>2631427.0</td>\n",
       "      <td>44793.0</td>\n",
       "      <td>4.50</td>\n",
       "      <td>16236.0</td>\n",
       "      <td>41738.0</td>\n",
       "      <td>231438.0</td>\n",
       "      <td>665628.0</td>\n",
       "      <td>1676387.0</td>\n",
       "    </tr>\n",
       "    <tr>\n",
       "      <th>2</th>\n",
       "      <td>2</td>\n",
       "      <td>3</td>\n",
       "      <td>Harry Potter and the Sorcerer's Stone</td>\n",
       "      <td>J.K. Rowling,Mary GrandPré</td>\n",
       "      <td>Harry Potter #1</td>\n",
       "      <td>Harry Potter's life is miserable. His parents ...</td>\n",
       "      <td>Fantasy</td>\n",
       "      <td>7434783.0</td>\n",
       "      <td>117823.0</td>\n",
       "      <td>4.48</td>\n",
       "      <td>126344.0</td>\n",
       "      <td>147184.0</td>\n",
       "      <td>627803.0</td>\n",
       "      <td>1694206.0</td>\n",
       "      <td>4839246.0</td>\n",
       "    </tr>\n",
       "    <tr>\n",
       "      <th>3</th>\n",
       "      <td>3</td>\n",
       "      <td>4</td>\n",
       "      <td>Harry Potter and the Chamber of Secrets</td>\n",
       "      <td>J.K. Rowling</td>\n",
       "      <td>Harry Potter #2</td>\n",
       "      <td>The Dursleys were so mean and hideous that sum...</td>\n",
       "      <td>Fantasy</td>\n",
       "      <td>2878196.0</td>\n",
       "      <td>55839.0</td>\n",
       "      <td>4.43</td>\n",
       "      <td>15623.0</td>\n",
       "      <td>55060.0</td>\n",
       "      <td>315917.0</td>\n",
       "      <td>787181.0</td>\n",
       "      <td>1704415.0</td>\n",
       "    </tr>\n",
       "    <tr>\n",
       "      <th>4</th>\n",
       "      <td>4</td>\n",
       "      <td>5</td>\n",
       "      <td>Harry Potter and the Prisoner of Azkaban</td>\n",
       "      <td>J.K. Rowling,Mary GrandPré</td>\n",
       "      <td>Harry Potter #3</td>\n",
       "      <td>For twelve long years, the dread fortress of A...</td>\n",
       "      <td>Fantasy</td>\n",
       "      <td>2972519.0</td>\n",
       "      <td>58483.0</td>\n",
       "      <td>4.57</td>\n",
       "      <td>14124.0</td>\n",
       "      <td>29105.0</td>\n",
       "      <td>214151.0</td>\n",
       "      <td>701765.0</td>\n",
       "      <td>2013374.0</td>\n",
       "    </tr>\n",
       "    <tr>\n",
       "      <th>...</th>\n",
       "      <td>...</td>\n",
       "      <td>...</td>\n",
       "      <td>...</td>\n",
       "      <td>...</td>\n",
       "      <td>...</td>\n",
       "      <td>...</td>\n",
       "      <td>...</td>\n",
       "      <td>...</td>\n",
       "      <td>...</td>\n",
       "      <td>...</td>\n",
       "      <td>...</td>\n",
       "      <td>...</td>\n",
       "      <td>...</td>\n",
       "      <td>...</td>\n",
       "      <td>...</td>\n",
       "    </tr>\n",
       "    <tr>\n",
       "      <th>595</th>\n",
       "      <td>611</td>\n",
       "      <td>612</td>\n",
       "      <td>An ABC of Vice: An Insatiable Women's Guide, A...</td>\n",
       "      <td>Nicole Hollander,Regina Barreca</td>\n",
       "      <td>NaN</td>\n",
       "      <td>The indefatigable humorist Regina Barreca is a...</td>\n",
       "      <td>humour</td>\n",
       "      <td>11.0</td>\n",
       "      <td>3.0</td>\n",
       "      <td>4.36</td>\n",
       "      <td>0.0</td>\n",
       "      <td>1.0</td>\n",
       "      <td>0.0</td>\n",
       "      <td>4.0</td>\n",
       "      <td>6.0</td>\n",
       "    </tr>\n",
       "    <tr>\n",
       "      <th>596</th>\n",
       "      <td>612</td>\n",
       "      <td>613</td>\n",
       "      <td>On Moral Character: A Practical Guide to Arist...</td>\n",
       "      <td>Jody Palmour</td>\n",
       "      <td>NaN</td>\n",
       "      <td>A \\users manual\\ for human development and sel...</td>\n",
       "      <td>nonfiction</td>\n",
       "      <td>1.0</td>\n",
       "      <td>1.0</td>\n",
       "      <td>5.00</td>\n",
       "      <td>NaN</td>\n",
       "      <td>NaN</td>\n",
       "      <td>NaN</td>\n",
       "      <td>NaN</td>\n",
       "      <td>NaN</td>\n",
       "    </tr>\n",
       "    <tr>\n",
       "      <th>597</th>\n",
       "      <td>613</td>\n",
       "      <td>614</td>\n",
       "      <td>Decadent health: A survival guide for elegant ...</td>\n",
       "      <td>Mark David Baer,James Mathers</td>\n",
       "      <td>NaN</td>\n",
       "      <td>NaN</td>\n",
       "      <td>humour</td>\n",
       "      <td>0.0</td>\n",
       "      <td>0.0</td>\n",
       "      <td>0.00</td>\n",
       "      <td>NaN</td>\n",
       "      <td>NaN</td>\n",
       "      <td>NaN</td>\n",
       "      <td>NaN</td>\n",
       "      <td>NaN</td>\n",
       "    </tr>\n",
       "    <tr>\n",
       "      <th>598</th>\n",
       "      <td>614</td>\n",
       "      <td>615</td>\n",
       "      <td>The Vice-Busting Diet: A 12-Week Plan to Break...</td>\n",
       "      <td>Julia Griggs Havey,David L. Katz</td>\n",
       "      <td>NaN</td>\n",
       "      <td>NaN</td>\n",
       "      <td>Cookbook</td>\n",
       "      <td>34.0</td>\n",
       "      <td>2.0</td>\n",
       "      <td>3.29</td>\n",
       "      <td>1.0</td>\n",
       "      <td>7.0</td>\n",
       "      <td>13.0</td>\n",
       "      <td>7.0</td>\n",
       "      <td>6.0</td>\n",
       "    </tr>\n",
       "    <tr>\n",
       "      <th>599</th>\n",
       "      <td>615</td>\n",
       "      <td>616</td>\n",
       "      <td>Vice &amp; Virtue in Everyday Life: Introductory R...</td>\n",
       "      <td>Christina Hoff Sommers,Fred Sommers</td>\n",
       "      <td>NaN</td>\n",
       "      <td>VICE AND VIRTUE IN EVERYDAY LIFE has been a be...</td>\n",
       "      <td>textbook</td>\n",
       "      <td>106.0</td>\n",
       "      <td>11.0</td>\n",
       "      <td>3.74</td>\n",
       "      <td>6.0</td>\n",
       "      <td>8.0</td>\n",
       "      <td>25.0</td>\n",
       "      <td>36.0</td>\n",
       "      <td>31.0</td>\n",
       "    </tr>\n",
       "  </tbody>\n",
       "</table>\n",
       "<p>600 rows × 15 columns</p>\n",
       "</div>"
      ],
      "text/plain": [
       "     Unnamed: 0  bookId                                              title  \\\n",
       "0             0       1             Harry Potter and the Half-Blood Prince   \n",
       "1             1       2          Harry Potter and the Order of the Phoenix   \n",
       "2             2       3              Harry Potter and the Sorcerer's Stone   \n",
       "3             3       4            Harry Potter and the Chamber of Secrets   \n",
       "4             4       5           Harry Potter and the Prisoner of Azkaban   \n",
       "..          ...     ...                                                ...   \n",
       "595         611     612  An ABC of Vice: An Insatiable Women's Guide, A...   \n",
       "596         612     613  On Moral Character: A Practical Guide to Arist...   \n",
       "597         613     614  Decadent health: A survival guide for elegant ...   \n",
       "598         614     615  The Vice-Busting Diet: A 12-Week Plan to Break...   \n",
       "599         615     616  Vice & Virtue in Everyday Life: Introductory R...   \n",
       "\n",
       "                                  author           series  \\\n",
       "0                           J.K. Rowling  Harry Potter #6   \n",
       "1             J.K. Rowling,Mary GrandPré  Harry Potter #5   \n",
       "2             J.K. Rowling,Mary GrandPré  Harry Potter #1   \n",
       "3                           J.K. Rowling  Harry Potter #2   \n",
       "4             J.K. Rowling,Mary GrandPré  Harry Potter #3   \n",
       "..                                   ...              ...   \n",
       "595      Nicole Hollander,Regina Barreca              NaN   \n",
       "596                         Jody Palmour              NaN   \n",
       "597        Mark David Baer,James Mathers              NaN   \n",
       "598     Julia Griggs Havey,David L. Katz              NaN   \n",
       "599  Christina Hoff Sommers,Fred Sommers              NaN   \n",
       "\n",
       "                                           description       genres  \\\n",
       "0    The war against Voldemort is not going well; e...      Fantasy   \n",
       "1    There is a door at the end of a silent corrido...      Fantasy   \n",
       "2    Harry Potter's life is miserable. His parents ...      Fantasy   \n",
       "3    The Dursleys were so mean and hideous that sum...      Fantasy   \n",
       "4    For twelve long years, the dread fortress of A...      Fantasy   \n",
       "..                                                 ...          ...   \n",
       "595  The indefatigable humorist Regina Barreca is a...       humour   \n",
       "596  A \\users manual\\ for human development and sel...   nonfiction   \n",
       "597                                                NaN       humour   \n",
       "598                                                NaN     Cookbook   \n",
       "599  VICE AND VIRTUE IN EVERYDAY LIFE has been a be...     textbook   \n",
       "\n",
       "     num_ratings  num_reviews  avg_rating   rated_1   rated_2   rated_3  \\\n",
       "0      2553909.0      41470.0        4.57   13147.0   29020.0  174312.0   \n",
       "1      2631427.0      44793.0        4.50   16236.0   41738.0  231438.0   \n",
       "2      7434783.0     117823.0        4.48  126344.0  147184.0  627803.0   \n",
       "3      2878196.0      55839.0        4.43   15623.0   55060.0  315917.0   \n",
       "4      2972519.0      58483.0        4.57   14124.0   29105.0  214151.0   \n",
       "..           ...          ...         ...       ...       ...       ...   \n",
       "595         11.0          3.0        4.36       0.0       1.0       0.0   \n",
       "596          1.0          1.0        5.00       NaN       NaN       NaN   \n",
       "597          0.0          0.0        0.00       NaN       NaN       NaN   \n",
       "598         34.0          2.0        3.29       1.0       7.0      13.0   \n",
       "599        106.0         11.0        3.74       6.0       8.0      25.0   \n",
       "\n",
       "       rated_4    rated_5  \n",
       "0     608825.0  1728605.0  \n",
       "1     665628.0  1676387.0  \n",
       "2    1694206.0  4839246.0  \n",
       "3     787181.0  1704415.0  \n",
       "4     701765.0  2013374.0  \n",
       "..         ...        ...  \n",
       "595        4.0        6.0  \n",
       "596        NaN        NaN  \n",
       "597        NaN        NaN  \n",
       "598        7.0        6.0  \n",
       "599       36.0       31.0  \n",
       "\n",
       "[600 rows x 15 columns]"
      ]
     },
     "execution_count": 4,
     "metadata": {},
     "output_type": "execute_result"
    }
   ],
   "source": [
    "x"
   ]
  },
  {
   "cell_type": "code",
   "execution_count": 5,
   "metadata": {
    "ExecuteTime": {
     "end_time": "2021-03-30T05:01:04.387305Z",
     "start_time": "2021-03-30T05:01:04.380301Z"
    }
   },
   "outputs": [
    {
     "data": {
      "text/plain": [
       "(600, 15)"
      ]
     },
     "execution_count": 5,
     "metadata": {},
     "output_type": "execute_result"
    }
   ],
   "source": [
    "#shape of data(x)\n",
    "x.shape"
   ]
  },
  {
   "cell_type": "code",
   "execution_count": 6,
   "metadata": {
    "ExecuteTime": {
     "end_time": "2021-03-30T05:01:05.260717Z",
     "start_time": "2021-03-30T05:01:05.256714Z"
    }
   },
   "outputs": [
    {
     "data": {
      "text/plain": [
       "Index(['Unnamed: 0', 'bookId', 'title', 'author', 'series', 'description',\n",
       "       'genres', 'num_ratings', 'num_reviews', 'avg_rating', 'rated_1',\n",
       "       'rated_2', 'rated_3', 'rated_4', 'rated_5'],\n",
       "      dtype='object')"
      ]
     },
     "execution_count": 6,
     "metadata": {},
     "output_type": "execute_result"
    }
   ],
   "source": [
    "#columns of the data(x)\n",
    "x.columns"
   ]
  },
  {
   "cell_type": "code",
   "execution_count": 7,
   "metadata": {
    "ExecuteTime": {
     "end_time": "2021-03-30T05:01:06.015130Z",
     "start_time": "2021-03-30T05:01:05.984127Z"
    }
   },
   "outputs": [
    {
     "data": {
      "text/html": [
       "<div>\n",
       "<style scoped>\n",
       "    .dataframe tbody tr th:only-of-type {\n",
       "        vertical-align: middle;\n",
       "    }\n",
       "\n",
       "    .dataframe tbody tr th {\n",
       "        vertical-align: top;\n",
       "    }\n",
       "\n",
       "    .dataframe thead th {\n",
       "        text-align: right;\n",
       "    }\n",
       "</style>\n",
       "<table border=\"1\" class=\"dataframe\">\n",
       "  <thead>\n",
       "    <tr style=\"text-align: right;\">\n",
       "      <th></th>\n",
       "      <th>bookId</th>\n",
       "      <th>title</th>\n",
       "      <th>author</th>\n",
       "      <th>series</th>\n",
       "      <th>description</th>\n",
       "      <th>genres</th>\n",
       "      <th>num_ratings</th>\n",
       "      <th>num_reviews</th>\n",
       "      <th>avg_rating</th>\n",
       "      <th>rated_1</th>\n",
       "      <th>rated_2</th>\n",
       "      <th>rated_3</th>\n",
       "      <th>rated_4</th>\n",
       "      <th>rated_5</th>\n",
       "    </tr>\n",
       "  </thead>\n",
       "  <tbody>\n",
       "    <tr>\n",
       "      <th>0</th>\n",
       "      <td>1</td>\n",
       "      <td>Harry Potter and the Half-Blood Prince</td>\n",
       "      <td>J.K. Rowling</td>\n",
       "      <td>Harry Potter #6</td>\n",
       "      <td>The war against Voldemort is not going well; e...</td>\n",
       "      <td>Fantasy</td>\n",
       "      <td>2553909.0</td>\n",
       "      <td>41470.0</td>\n",
       "      <td>4.57</td>\n",
       "      <td>13147.0</td>\n",
       "      <td>29020.0</td>\n",
       "      <td>174312.0</td>\n",
       "      <td>608825.0</td>\n",
       "      <td>1728605.0</td>\n",
       "    </tr>\n",
       "    <tr>\n",
       "      <th>1</th>\n",
       "      <td>2</td>\n",
       "      <td>Harry Potter and the Order of the Phoenix</td>\n",
       "      <td>J.K. Rowling,Mary GrandPré</td>\n",
       "      <td>Harry Potter #5</td>\n",
       "      <td>There is a door at the end of a silent corrido...</td>\n",
       "      <td>Fantasy</td>\n",
       "      <td>2631427.0</td>\n",
       "      <td>44793.0</td>\n",
       "      <td>4.50</td>\n",
       "      <td>16236.0</td>\n",
       "      <td>41738.0</td>\n",
       "      <td>231438.0</td>\n",
       "      <td>665628.0</td>\n",
       "      <td>1676387.0</td>\n",
       "    </tr>\n",
       "    <tr>\n",
       "      <th>2</th>\n",
       "      <td>3</td>\n",
       "      <td>Harry Potter and the Sorcerer's Stone</td>\n",
       "      <td>J.K. Rowling,Mary GrandPré</td>\n",
       "      <td>Harry Potter #1</td>\n",
       "      <td>Harry Potter's life is miserable. His parents ...</td>\n",
       "      <td>Fantasy</td>\n",
       "      <td>7434783.0</td>\n",
       "      <td>117823.0</td>\n",
       "      <td>4.48</td>\n",
       "      <td>126344.0</td>\n",
       "      <td>147184.0</td>\n",
       "      <td>627803.0</td>\n",
       "      <td>1694206.0</td>\n",
       "      <td>4839246.0</td>\n",
       "    </tr>\n",
       "    <tr>\n",
       "      <th>3</th>\n",
       "      <td>4</td>\n",
       "      <td>Harry Potter and the Chamber of Secrets</td>\n",
       "      <td>J.K. Rowling</td>\n",
       "      <td>Harry Potter #2</td>\n",
       "      <td>The Dursleys were so mean and hideous that sum...</td>\n",
       "      <td>Fantasy</td>\n",
       "      <td>2878196.0</td>\n",
       "      <td>55839.0</td>\n",
       "      <td>4.43</td>\n",
       "      <td>15623.0</td>\n",
       "      <td>55060.0</td>\n",
       "      <td>315917.0</td>\n",
       "      <td>787181.0</td>\n",
       "      <td>1704415.0</td>\n",
       "    </tr>\n",
       "    <tr>\n",
       "      <th>4</th>\n",
       "      <td>5</td>\n",
       "      <td>Harry Potter and the Prisoner of Azkaban</td>\n",
       "      <td>J.K. Rowling,Mary GrandPré</td>\n",
       "      <td>Harry Potter #3</td>\n",
       "      <td>For twelve long years, the dread fortress of A...</td>\n",
       "      <td>Fantasy</td>\n",
       "      <td>2972519.0</td>\n",
       "      <td>58483.0</td>\n",
       "      <td>4.57</td>\n",
       "      <td>14124.0</td>\n",
       "      <td>29105.0</td>\n",
       "      <td>214151.0</td>\n",
       "      <td>701765.0</td>\n",
       "      <td>2013374.0</td>\n",
       "    </tr>\n",
       "    <tr>\n",
       "      <th>...</th>\n",
       "      <td>...</td>\n",
       "      <td>...</td>\n",
       "      <td>...</td>\n",
       "      <td>...</td>\n",
       "      <td>...</td>\n",
       "      <td>...</td>\n",
       "      <td>...</td>\n",
       "      <td>...</td>\n",
       "      <td>...</td>\n",
       "      <td>...</td>\n",
       "      <td>...</td>\n",
       "      <td>...</td>\n",
       "      <td>...</td>\n",
       "      <td>...</td>\n",
       "    </tr>\n",
       "    <tr>\n",
       "      <th>595</th>\n",
       "      <td>612</td>\n",
       "      <td>An ABC of Vice: An Insatiable Women's Guide, A...</td>\n",
       "      <td>Nicole Hollander,Regina Barreca</td>\n",
       "      <td>NaN</td>\n",
       "      <td>The indefatigable humorist Regina Barreca is a...</td>\n",
       "      <td>humour</td>\n",
       "      <td>11.0</td>\n",
       "      <td>3.0</td>\n",
       "      <td>4.36</td>\n",
       "      <td>0.0</td>\n",
       "      <td>1.0</td>\n",
       "      <td>0.0</td>\n",
       "      <td>4.0</td>\n",
       "      <td>6.0</td>\n",
       "    </tr>\n",
       "    <tr>\n",
       "      <th>596</th>\n",
       "      <td>613</td>\n",
       "      <td>On Moral Character: A Practical Guide to Arist...</td>\n",
       "      <td>Jody Palmour</td>\n",
       "      <td>NaN</td>\n",
       "      <td>A \\users manual\\ for human development and sel...</td>\n",
       "      <td>nonfiction</td>\n",
       "      <td>1.0</td>\n",
       "      <td>1.0</td>\n",
       "      <td>5.00</td>\n",
       "      <td>NaN</td>\n",
       "      <td>NaN</td>\n",
       "      <td>NaN</td>\n",
       "      <td>NaN</td>\n",
       "      <td>NaN</td>\n",
       "    </tr>\n",
       "    <tr>\n",
       "      <th>597</th>\n",
       "      <td>614</td>\n",
       "      <td>Decadent health: A survival guide for elegant ...</td>\n",
       "      <td>Mark David Baer,James Mathers</td>\n",
       "      <td>NaN</td>\n",
       "      <td>NaN</td>\n",
       "      <td>humour</td>\n",
       "      <td>0.0</td>\n",
       "      <td>0.0</td>\n",
       "      <td>0.00</td>\n",
       "      <td>NaN</td>\n",
       "      <td>NaN</td>\n",
       "      <td>NaN</td>\n",
       "      <td>NaN</td>\n",
       "      <td>NaN</td>\n",
       "    </tr>\n",
       "    <tr>\n",
       "      <th>598</th>\n",
       "      <td>615</td>\n",
       "      <td>The Vice-Busting Diet: A 12-Week Plan to Break...</td>\n",
       "      <td>Julia Griggs Havey,David L. Katz</td>\n",
       "      <td>NaN</td>\n",
       "      <td>NaN</td>\n",
       "      <td>Cookbook</td>\n",
       "      <td>34.0</td>\n",
       "      <td>2.0</td>\n",
       "      <td>3.29</td>\n",
       "      <td>1.0</td>\n",
       "      <td>7.0</td>\n",
       "      <td>13.0</td>\n",
       "      <td>7.0</td>\n",
       "      <td>6.0</td>\n",
       "    </tr>\n",
       "    <tr>\n",
       "      <th>599</th>\n",
       "      <td>616</td>\n",
       "      <td>Vice &amp; Virtue in Everyday Life: Introductory R...</td>\n",
       "      <td>Christina Hoff Sommers,Fred Sommers</td>\n",
       "      <td>NaN</td>\n",
       "      <td>VICE AND VIRTUE IN EVERYDAY LIFE has been a be...</td>\n",
       "      <td>textbook</td>\n",
       "      <td>106.0</td>\n",
       "      <td>11.0</td>\n",
       "      <td>3.74</td>\n",
       "      <td>6.0</td>\n",
       "      <td>8.0</td>\n",
       "      <td>25.0</td>\n",
       "      <td>36.0</td>\n",
       "      <td>31.0</td>\n",
       "    </tr>\n",
       "  </tbody>\n",
       "</table>\n",
       "<p>600 rows × 14 columns</p>\n",
       "</div>"
      ],
      "text/plain": [
       "     bookId                                              title  \\\n",
       "0         1             Harry Potter and the Half-Blood Prince   \n",
       "1         2          Harry Potter and the Order of the Phoenix   \n",
       "2         3              Harry Potter and the Sorcerer's Stone   \n",
       "3         4            Harry Potter and the Chamber of Secrets   \n",
       "4         5           Harry Potter and the Prisoner of Azkaban   \n",
       "..      ...                                                ...   \n",
       "595     612  An ABC of Vice: An Insatiable Women's Guide, A...   \n",
       "596     613  On Moral Character: A Practical Guide to Arist...   \n",
       "597     614  Decadent health: A survival guide for elegant ...   \n",
       "598     615  The Vice-Busting Diet: A 12-Week Plan to Break...   \n",
       "599     616  Vice & Virtue in Everyday Life: Introductory R...   \n",
       "\n",
       "                                  author           series  \\\n",
       "0                           J.K. Rowling  Harry Potter #6   \n",
       "1             J.K. Rowling,Mary GrandPré  Harry Potter #5   \n",
       "2             J.K. Rowling,Mary GrandPré  Harry Potter #1   \n",
       "3                           J.K. Rowling  Harry Potter #2   \n",
       "4             J.K. Rowling,Mary GrandPré  Harry Potter #3   \n",
       "..                                   ...              ...   \n",
       "595      Nicole Hollander,Regina Barreca              NaN   \n",
       "596                         Jody Palmour              NaN   \n",
       "597        Mark David Baer,James Mathers              NaN   \n",
       "598     Julia Griggs Havey,David L. Katz              NaN   \n",
       "599  Christina Hoff Sommers,Fred Sommers              NaN   \n",
       "\n",
       "                                           description       genres  \\\n",
       "0    The war against Voldemort is not going well; e...      Fantasy   \n",
       "1    There is a door at the end of a silent corrido...      Fantasy   \n",
       "2    Harry Potter's life is miserable. His parents ...      Fantasy   \n",
       "3    The Dursleys were so mean and hideous that sum...      Fantasy   \n",
       "4    For twelve long years, the dread fortress of A...      Fantasy   \n",
       "..                                                 ...          ...   \n",
       "595  The indefatigable humorist Regina Barreca is a...       humour   \n",
       "596  A \\users manual\\ for human development and sel...   nonfiction   \n",
       "597                                                NaN       humour   \n",
       "598                                                NaN     Cookbook   \n",
       "599  VICE AND VIRTUE IN EVERYDAY LIFE has been a be...     textbook   \n",
       "\n",
       "     num_ratings  num_reviews  avg_rating   rated_1   rated_2   rated_3  \\\n",
       "0      2553909.0      41470.0        4.57   13147.0   29020.0  174312.0   \n",
       "1      2631427.0      44793.0        4.50   16236.0   41738.0  231438.0   \n",
       "2      7434783.0     117823.0        4.48  126344.0  147184.0  627803.0   \n",
       "3      2878196.0      55839.0        4.43   15623.0   55060.0  315917.0   \n",
       "4      2972519.0      58483.0        4.57   14124.0   29105.0  214151.0   \n",
       "..           ...          ...         ...       ...       ...       ...   \n",
       "595         11.0          3.0        4.36       0.0       1.0       0.0   \n",
       "596          1.0          1.0        5.00       NaN       NaN       NaN   \n",
       "597          0.0          0.0        0.00       NaN       NaN       NaN   \n",
       "598         34.0          2.0        3.29       1.0       7.0      13.0   \n",
       "599        106.0         11.0        3.74       6.0       8.0      25.0   \n",
       "\n",
       "       rated_4    rated_5  \n",
       "0     608825.0  1728605.0  \n",
       "1     665628.0  1676387.0  \n",
       "2    1694206.0  4839246.0  \n",
       "3     787181.0  1704415.0  \n",
       "4     701765.0  2013374.0  \n",
       "..         ...        ...  \n",
       "595        4.0        6.0  \n",
       "596        NaN        NaN  \n",
       "597        NaN        NaN  \n",
       "598        7.0        6.0  \n",
       "599       36.0       31.0  \n",
       "\n",
       "[600 rows x 14 columns]"
      ]
     },
     "execution_count": 7,
     "metadata": {},
     "output_type": "execute_result"
    }
   ],
   "source": [
    "#dropping first column\n",
    "x = x.drop('Unnamed: 0',axis=1)\n",
    "x"
   ]
  },
  {
   "cell_type": "code",
   "execution_count": 8,
   "metadata": {
    "ExecuteTime": {
     "end_time": "2021-03-30T05:01:06.712825Z",
     "start_time": "2021-03-30T05:01:06.616163Z"
    }
   },
   "outputs": [
    {
     "data": {
      "text/plain": [
       "bookId           0\n",
       "title           11\n",
       "author          11\n",
       "series         464\n",
       "description     59\n",
       "genres           1\n",
       "num_ratings     11\n",
       "num_reviews     11\n",
       "avg_rating      11\n",
       "rated_1         49\n",
       "rated_2         49\n",
       "rated_3         49\n",
       "rated_4         49\n",
       "rated_5         49\n",
       "dtype: int64"
      ]
     },
     "execution_count": 8,
     "metadata": {},
     "output_type": "execute_result"
    }
   ],
   "source": [
    "#checking nulls\n",
    "x.isnull().sum()"
   ]
  },
  {
   "cell_type": "code",
   "execution_count": 11,
   "metadata": {
    "ExecuteTime": {
     "end_time": "2021-03-30T05:01:12.399092Z",
     "start_time": "2021-03-30T05:01:12.392089Z"
    }
   },
   "outputs": [],
   "source": [
    "#we will drop the rows containing null value in title columns since its of no use\n",
    "x = x.dropna(subset=['title'])"
   ]
  },
  {
   "cell_type": "code",
   "execution_count": 12,
   "metadata": {
    "ExecuteTime": {
     "end_time": "2021-03-30T05:01:13.056668Z",
     "start_time": "2021-03-30T05:01:13.047665Z"
    }
   },
   "outputs": [
    {
     "data": {
      "text/plain": [
       "bookId           0\n",
       "title            0\n",
       "author           0\n",
       "series         453\n",
       "description     48\n",
       "genres           0\n",
       "num_ratings      0\n",
       "num_reviews      0\n",
       "avg_rating       0\n",
       "rated_1         38\n",
       "rated_2         38\n",
       "rated_3         38\n",
       "rated_4         38\n",
       "rated_5         38\n",
       "dtype: int64"
      ]
     },
     "execution_count": 12,
     "metadata": {},
     "output_type": "execute_result"
    }
   ],
   "source": [
    "#checking nulls\n",
    "x.isnull().sum()"
   ]
  },
  {
   "cell_type": "code",
   "execution_count": 13,
   "metadata": {
    "ExecuteTime": {
     "end_time": "2021-03-30T05:06:28.610175Z",
     "start_time": "2021-03-30T05:06:28.604173Z"
    }
   },
   "outputs": [],
   "source": [
    "#since we are building model with ratings and genres we will remove the decriptions and series\n",
    "x = x.drop(['description','series'],axis=1)\n"
   ]
  },
  {
   "cell_type": "code",
   "execution_count": 14,
   "metadata": {
    "ExecuteTime": {
     "end_time": "2021-03-30T05:06:29.510527Z",
     "start_time": "2021-03-30T05:06:29.485526Z"
    }
   },
   "outputs": [
    {
     "data": {
      "text/html": [
       "<div>\n",
       "<style scoped>\n",
       "    .dataframe tbody tr th:only-of-type {\n",
       "        vertical-align: middle;\n",
       "    }\n",
       "\n",
       "    .dataframe tbody tr th {\n",
       "        vertical-align: top;\n",
       "    }\n",
       "\n",
       "    .dataframe thead th {\n",
       "        text-align: right;\n",
       "    }\n",
       "</style>\n",
       "<table border=\"1\" class=\"dataframe\">\n",
       "  <thead>\n",
       "    <tr style=\"text-align: right;\">\n",
       "      <th></th>\n",
       "      <th>bookId</th>\n",
       "      <th>title</th>\n",
       "      <th>author</th>\n",
       "      <th>genres</th>\n",
       "      <th>num_ratings</th>\n",
       "      <th>num_reviews</th>\n",
       "      <th>avg_rating</th>\n",
       "      <th>rated_1</th>\n",
       "      <th>rated_2</th>\n",
       "      <th>rated_3</th>\n",
       "      <th>rated_4</th>\n",
       "      <th>rated_5</th>\n",
       "    </tr>\n",
       "  </thead>\n",
       "  <tbody>\n",
       "    <tr>\n",
       "      <th>0</th>\n",
       "      <td>1</td>\n",
       "      <td>Harry Potter and the Half-Blood Prince</td>\n",
       "      <td>J.K. Rowling</td>\n",
       "      <td>Fantasy</td>\n",
       "      <td>2553909.0</td>\n",
       "      <td>41470.0</td>\n",
       "      <td>4.57</td>\n",
       "      <td>13147.0</td>\n",
       "      <td>29020.0</td>\n",
       "      <td>174312.0</td>\n",
       "      <td>608825.0</td>\n",
       "      <td>1728605.0</td>\n",
       "    </tr>\n",
       "    <tr>\n",
       "      <th>1</th>\n",
       "      <td>2</td>\n",
       "      <td>Harry Potter and the Order of the Phoenix</td>\n",
       "      <td>J.K. Rowling,Mary GrandPré</td>\n",
       "      <td>Fantasy</td>\n",
       "      <td>2631427.0</td>\n",
       "      <td>44793.0</td>\n",
       "      <td>4.50</td>\n",
       "      <td>16236.0</td>\n",
       "      <td>41738.0</td>\n",
       "      <td>231438.0</td>\n",
       "      <td>665628.0</td>\n",
       "      <td>1676387.0</td>\n",
       "    </tr>\n",
       "    <tr>\n",
       "      <th>2</th>\n",
       "      <td>3</td>\n",
       "      <td>Harry Potter and the Sorcerer's Stone</td>\n",
       "      <td>J.K. Rowling,Mary GrandPré</td>\n",
       "      <td>Fantasy</td>\n",
       "      <td>7434783.0</td>\n",
       "      <td>117823.0</td>\n",
       "      <td>4.48</td>\n",
       "      <td>126344.0</td>\n",
       "      <td>147184.0</td>\n",
       "      <td>627803.0</td>\n",
       "      <td>1694206.0</td>\n",
       "      <td>4839246.0</td>\n",
       "    </tr>\n",
       "    <tr>\n",
       "      <th>3</th>\n",
       "      <td>4</td>\n",
       "      <td>Harry Potter and the Chamber of Secrets</td>\n",
       "      <td>J.K. Rowling</td>\n",
       "      <td>Fantasy</td>\n",
       "      <td>2878196.0</td>\n",
       "      <td>55839.0</td>\n",
       "      <td>4.43</td>\n",
       "      <td>15623.0</td>\n",
       "      <td>55060.0</td>\n",
       "      <td>315917.0</td>\n",
       "      <td>787181.0</td>\n",
       "      <td>1704415.0</td>\n",
       "    </tr>\n",
       "    <tr>\n",
       "      <th>4</th>\n",
       "      <td>5</td>\n",
       "      <td>Harry Potter and the Prisoner of Azkaban</td>\n",
       "      <td>J.K. Rowling,Mary GrandPré</td>\n",
       "      <td>Fantasy</td>\n",
       "      <td>2972519.0</td>\n",
       "      <td>58483.0</td>\n",
       "      <td>4.57</td>\n",
       "      <td>14124.0</td>\n",
       "      <td>29105.0</td>\n",
       "      <td>214151.0</td>\n",
       "      <td>701765.0</td>\n",
       "      <td>2013374.0</td>\n",
       "    </tr>\n",
       "    <tr>\n",
       "      <th>...</th>\n",
       "      <td>...</td>\n",
       "      <td>...</td>\n",
       "      <td>...</td>\n",
       "      <td>...</td>\n",
       "      <td>...</td>\n",
       "      <td>...</td>\n",
       "      <td>...</td>\n",
       "      <td>...</td>\n",
       "      <td>...</td>\n",
       "      <td>...</td>\n",
       "      <td>...</td>\n",
       "      <td>...</td>\n",
       "    </tr>\n",
       "    <tr>\n",
       "      <th>595</th>\n",
       "      <td>612</td>\n",
       "      <td>An ABC of Vice: An Insatiable Women's Guide, A...</td>\n",
       "      <td>Nicole Hollander,Regina Barreca</td>\n",
       "      <td>humour</td>\n",
       "      <td>11.0</td>\n",
       "      <td>3.0</td>\n",
       "      <td>4.36</td>\n",
       "      <td>0.0</td>\n",
       "      <td>1.0</td>\n",
       "      <td>0.0</td>\n",
       "      <td>4.0</td>\n",
       "      <td>6.0</td>\n",
       "    </tr>\n",
       "    <tr>\n",
       "      <th>596</th>\n",
       "      <td>613</td>\n",
       "      <td>On Moral Character: A Practical Guide to Arist...</td>\n",
       "      <td>Jody Palmour</td>\n",
       "      <td>nonfiction</td>\n",
       "      <td>1.0</td>\n",
       "      <td>1.0</td>\n",
       "      <td>5.00</td>\n",
       "      <td>NaN</td>\n",
       "      <td>NaN</td>\n",
       "      <td>NaN</td>\n",
       "      <td>NaN</td>\n",
       "      <td>NaN</td>\n",
       "    </tr>\n",
       "    <tr>\n",
       "      <th>597</th>\n",
       "      <td>614</td>\n",
       "      <td>Decadent health: A survival guide for elegant ...</td>\n",
       "      <td>Mark David Baer,James Mathers</td>\n",
       "      <td>humour</td>\n",
       "      <td>0.0</td>\n",
       "      <td>0.0</td>\n",
       "      <td>0.00</td>\n",
       "      <td>NaN</td>\n",
       "      <td>NaN</td>\n",
       "      <td>NaN</td>\n",
       "      <td>NaN</td>\n",
       "      <td>NaN</td>\n",
       "    </tr>\n",
       "    <tr>\n",
       "      <th>598</th>\n",
       "      <td>615</td>\n",
       "      <td>The Vice-Busting Diet: A 12-Week Plan to Break...</td>\n",
       "      <td>Julia Griggs Havey,David L. Katz</td>\n",
       "      <td>Cookbook</td>\n",
       "      <td>34.0</td>\n",
       "      <td>2.0</td>\n",
       "      <td>3.29</td>\n",
       "      <td>1.0</td>\n",
       "      <td>7.0</td>\n",
       "      <td>13.0</td>\n",
       "      <td>7.0</td>\n",
       "      <td>6.0</td>\n",
       "    </tr>\n",
       "    <tr>\n",
       "      <th>599</th>\n",
       "      <td>616</td>\n",
       "      <td>Vice &amp; Virtue in Everyday Life: Introductory R...</td>\n",
       "      <td>Christina Hoff Sommers,Fred Sommers</td>\n",
       "      <td>textbook</td>\n",
       "      <td>106.0</td>\n",
       "      <td>11.0</td>\n",
       "      <td>3.74</td>\n",
       "      <td>6.0</td>\n",
       "      <td>8.0</td>\n",
       "      <td>25.0</td>\n",
       "      <td>36.0</td>\n",
       "      <td>31.0</td>\n",
       "    </tr>\n",
       "  </tbody>\n",
       "</table>\n",
       "<p>589 rows × 12 columns</p>\n",
       "</div>"
      ],
      "text/plain": [
       "     bookId                                              title  \\\n",
       "0         1             Harry Potter and the Half-Blood Prince   \n",
       "1         2          Harry Potter and the Order of the Phoenix   \n",
       "2         3              Harry Potter and the Sorcerer's Stone   \n",
       "3         4            Harry Potter and the Chamber of Secrets   \n",
       "4         5           Harry Potter and the Prisoner of Azkaban   \n",
       "..      ...                                                ...   \n",
       "595     612  An ABC of Vice: An Insatiable Women's Guide, A...   \n",
       "596     613  On Moral Character: A Practical Guide to Arist...   \n",
       "597     614  Decadent health: A survival guide for elegant ...   \n",
       "598     615  The Vice-Busting Diet: A 12-Week Plan to Break...   \n",
       "599     616  Vice & Virtue in Everyday Life: Introductory R...   \n",
       "\n",
       "                                  author       genres  num_ratings  \\\n",
       "0                           J.K. Rowling      Fantasy    2553909.0   \n",
       "1             J.K. Rowling,Mary GrandPré      Fantasy    2631427.0   \n",
       "2             J.K. Rowling,Mary GrandPré      Fantasy    7434783.0   \n",
       "3                           J.K. Rowling      Fantasy    2878196.0   \n",
       "4             J.K. Rowling,Mary GrandPré      Fantasy    2972519.0   \n",
       "..                                   ...          ...          ...   \n",
       "595      Nicole Hollander,Regina Barreca       humour         11.0   \n",
       "596                         Jody Palmour   nonfiction          1.0   \n",
       "597        Mark David Baer,James Mathers       humour          0.0   \n",
       "598     Julia Griggs Havey,David L. Katz     Cookbook         34.0   \n",
       "599  Christina Hoff Sommers,Fred Sommers     textbook        106.0   \n",
       "\n",
       "     num_reviews  avg_rating   rated_1   rated_2   rated_3    rated_4  \\\n",
       "0        41470.0        4.57   13147.0   29020.0  174312.0   608825.0   \n",
       "1        44793.0        4.50   16236.0   41738.0  231438.0   665628.0   \n",
       "2       117823.0        4.48  126344.0  147184.0  627803.0  1694206.0   \n",
       "3        55839.0        4.43   15623.0   55060.0  315917.0   787181.0   \n",
       "4        58483.0        4.57   14124.0   29105.0  214151.0   701765.0   \n",
       "..           ...         ...       ...       ...       ...        ...   \n",
       "595          3.0        4.36       0.0       1.0       0.0        4.0   \n",
       "596          1.0        5.00       NaN       NaN       NaN        NaN   \n",
       "597          0.0        0.00       NaN       NaN       NaN        NaN   \n",
       "598          2.0        3.29       1.0       7.0      13.0        7.0   \n",
       "599         11.0        3.74       6.0       8.0      25.0       36.0   \n",
       "\n",
       "       rated_5  \n",
       "0    1728605.0  \n",
       "1    1676387.0  \n",
       "2    4839246.0  \n",
       "3    1704415.0  \n",
       "4    2013374.0  \n",
       "..         ...  \n",
       "595        6.0  \n",
       "596        NaN  \n",
       "597        NaN  \n",
       "598        6.0  \n",
       "599       31.0  \n",
       "\n",
       "[589 rows x 12 columns]"
      ]
     },
     "execution_count": 14,
     "metadata": {},
     "output_type": "execute_result"
    }
   ],
   "source": [
    "#lets view the data\n",
    "x"
   ]
  },
  {
   "cell_type": "code",
   "execution_count": 15,
   "metadata": {
    "ExecuteTime": {
     "end_time": "2021-03-30T05:06:30.314014Z",
     "start_time": "2021-03-30T05:06:30.309014Z"
    }
   },
   "outputs": [],
   "source": [
    "x = x.drop(['rated_1','rated_2', 'rated_3', 'rated_4', 'rated_5'],axis=1)"
   ]
  },
  {
   "cell_type": "code",
   "execution_count": 16,
   "metadata": {
    "ExecuteTime": {
     "end_time": "2021-03-30T05:06:31.044974Z",
     "start_time": "2021-03-30T05:06:31.039974Z"
    }
   },
   "outputs": [
    {
     "data": {
      "text/plain": [
       "(589, 7)"
      ]
     },
     "execution_count": 16,
     "metadata": {},
     "output_type": "execute_result"
    }
   ],
   "source": [
    "#shape after cleaning data\n",
    "x.shape"
   ]
  },
  {
   "cell_type": "code",
   "execution_count": 17,
   "metadata": {
    "ExecuteTime": {
     "end_time": "2021-03-30T05:06:34.034306Z",
     "start_time": "2021-03-30T05:06:31.720017Z"
    }
   },
   "outputs": [
    {
     "data": {
      "text/plain": [
       "<matplotlib.axes._subplots.AxesSubplot at 0x22620ebd820>"
      ]
     },
     "execution_count": 17,
     "metadata": {},
     "output_type": "execute_result"
    },
    {
     "data": {
      "image/png": "[encoded data removed]",
      "text/plain": [
       "<Figure size 1296x360 with 1 Axes>"
      ]
     },
     "metadata": {
      "needs_background": "light"
     },
     "output_type": "display_data"
    }
   ],
   "source": [
    "#visualization of the data\n",
    "\n",
    "#GENRE DISTRIBUTION\n",
    "x['genres'].value_counts().plot(x = 'genre', y ='count', kind = 'bar', figsize = (18,5)  )"
   ]
  },
  {
   "cell_type": "code",
   "execution_count": 18,
   "metadata": {
    "ExecuteTime": {
     "end_time": "2021-03-30T05:06:37.576470Z",
     "start_time": "2021-03-30T05:06:34.114313Z"
    }
   },
   "outputs": [
    {
     "data": {
      "text/plain": [
       "<matplotlib.axes._subplots.AxesSubplot at 0x22622a60fd0>"
      ]
     },
     "execution_count": 18,
     "metadata": {},
     "output_type": "execute_result"
    },
    {
     "data": {
      "image/png": "[encoded data removed]",
      "text/plain": [
       "<Figure size 432x288 with 1 Axes>"
      ]
     },
     "metadata": {},
     "output_type": "display_data"
    }
   ],
   "source": [
    "#RATING DISTRIBUTION\n",
    "import seaborn as sns\n",
    "sns.set()\n",
    "sns.distplot(x['avg_rating'])"
   ]
  },
  {
   "cell_type": "code",
   "execution_count": 19,
   "metadata": {
    "ExecuteTime": {
     "end_time": "2021-03-30T05:06:37.971501Z",
     "start_time": "2021-03-30T05:06:37.632478Z"
    }
   },
   "outputs": [
    {
     "data": {
      "text/plain": [
       "<matplotlib.axes._subplots.AxesSubplot at 0x22622b46160>"
      ]
     },
     "execution_count": 19,
     "metadata": {},
     "output_type": "execute_result"
    },
    {
     "data": {
      "image/png": "[encoded data removed]",
      "text/plain": [
       "<Figure size 432x288 with 1 Axes>"
      ]
     },
     "metadata": {},
     "output_type": "display_data"
    }
   ],
   "source": [
    "sns.distplot(x['num_reviews'])"
   ]
  },
  {
   "cell_type": "code",
   "execution_count": 20,
   "metadata": {
    "ExecuteTime": {
     "end_time": "2021-03-30T05:06:39.187637Z",
     "start_time": "2021-03-30T05:06:38.984601Z"
    }
   },
   "outputs": [
    {
     "data": {
      "text/html": [
       "<div>\n",
       "<style scoped>\n",
       "    .dataframe tbody tr th:only-of-type {\n",
       "        vertical-align: middle;\n",
       "    }\n",
       "\n",
       "    .dataframe tbody tr th {\n",
       "        vertical-align: top;\n",
       "    }\n",
       "\n",
       "    .dataframe thead th {\n",
       "        text-align: right;\n",
       "    }\n",
       "</style>\n",
       "<table border=\"1\" class=\"dataframe\">\n",
       "  <thead>\n",
       "    <tr style=\"text-align: right;\">\n",
       "      <th></th>\n",
       "      <th>bookId</th>\n",
       "      <th>num_ratings</th>\n",
       "      <th>num_reviews</th>\n",
       "      <th>avg_rating</th>\n",
       "    </tr>\n",
       "  </thead>\n",
       "  <tbody>\n",
       "    <tr>\n",
       "      <th>bookId</th>\n",
       "      <td>1.000000</td>\n",
       "      <td>-0.161278</td>\n",
       "      <td>-0.181266</td>\n",
       "      <td>-0.233670</td>\n",
       "    </tr>\n",
       "    <tr>\n",
       "      <th>num_ratings</th>\n",
       "      <td>-0.161278</td>\n",
       "      <td>1.000000</td>\n",
       "      <td>0.948285</td>\n",
       "      <td>0.108550</td>\n",
       "    </tr>\n",
       "    <tr>\n",
       "      <th>num_reviews</th>\n",
       "      <td>-0.181266</td>\n",
       "      <td>0.948285</td>\n",
       "      <td>1.000000</td>\n",
       "      <td>0.113068</td>\n",
       "    </tr>\n",
       "    <tr>\n",
       "      <th>avg_rating</th>\n",
       "      <td>-0.233670</td>\n",
       "      <td>0.108550</td>\n",
       "      <td>0.113068</td>\n",
       "      <td>1.000000</td>\n",
       "    </tr>\n",
       "  </tbody>\n",
       "</table>\n",
       "</div>"
      ],
      "text/plain": [
       "               bookId  num_ratings  num_reviews  avg_rating\n",
       "bookId       1.000000    -0.161278    -0.181266   -0.233670\n",
       "num_ratings -0.161278     1.000000     0.948285    0.108550\n",
       "num_reviews -0.181266     0.948285     1.000000    0.113068\n",
       "avg_rating  -0.233670     0.108550     0.113068    1.000000"
      ]
     },
     "execution_count": 20,
     "metadata": {},
     "output_type": "execute_result"
    }
   ],
   "source": [
    "#checking correlation\n",
    "x.corr()"
   ]
  },
  {
   "cell_type": "code",
   "execution_count": 21,
   "metadata": {
    "ExecuteTime": {
     "end_time": "2021-03-30T05:06:40.013472Z",
     "start_time": "2021-03-30T05:06:40.004471Z"
    }
   },
   "outputs": [
    {
     "name": "stdout",
     "output_type": "stream",
     "text": [
      "<class 'pandas.core.frame.DataFrame'>\n",
      "Int64Index: 589 entries, 0 to 599\n",
      "Data columns (total 7 columns):\n",
      " #   Column       Non-Null Count  Dtype  \n",
      "---  ------       --------------  -----  \n",
      " 0   bookId       589 non-null    int64  \n",
      " 1   title        589 non-null    object \n",
      " 2   author       589 non-null    object \n",
      " 3   genres       589 non-null    object \n",
      " 4   num_ratings  589 non-null    float64\n",
      " 5   num_reviews  589 non-null    float64\n",
      " 6   avg_rating   589 non-null    float64\n",
      "dtypes: float64(3), int64(1), object(3)\n",
      "memory usage: 36.8+ KB\n"
     ]
    }
   ],
   "source": [
    "x.info()"
   ]
  },
  {
   "cell_type": "code",
   "execution_count": 22,
   "metadata": {
    "ExecuteTime": {
     "end_time": "2021-03-30T05:06:40.553451Z",
     "start_time": "2021-03-30T05:06:40.548451Z"
    }
   },
   "outputs": [
    {
     "name": "stdout",
     "output_type": "stream",
     "text": [
      "unique books in the data set- 526\n"
     ]
    }
   ],
   "source": [
    "#unique books \n",
    "print(\"unique books in the data set-\",len(x.title.unique()))"
   ]
  },
  {
   "cell_type": "code",
   "execution_count": 23,
   "metadata": {
    "ExecuteTime": {
     "end_time": "2021-03-30T05:06:41.593837Z",
     "start_time": "2021-03-30T05:06:41.587850Z"
    }
   },
   "outputs": [
    {
     "name": "stdout",
     "output_type": "stream",
     "text": [
      "unique genres in the data set- 69\n"
     ]
    }
   ],
   "source": [
    "print(\"unique genres in the data set-\",len(x.genres.unique()))"
   ]
  },
  {
   "cell_type": "code",
   "execution_count": 24,
   "metadata": {
    "ExecuteTime": {
     "end_time": "2021-03-30T05:06:42.057384Z",
     "start_time": "2021-03-30T05:06:42.052384Z"
    }
   },
   "outputs": [
    {
     "name": "stdout",
     "output_type": "stream",
     "text": [
      "unique author in the data set- 417\n"
     ]
    }
   ],
   "source": [
    "print(\"unique author in the data set-\",len(x.author.unique()))"
   ]
  },
  {
   "cell_type": "code",
   "execution_count": 25,
   "metadata": {
    "ExecuteTime": {
     "end_time": "2021-03-30T05:06:42.508096Z",
     "start_time": "2021-03-30T05:06:42.500095Z"
    }
   },
   "outputs": [
    {
     "data": {
      "text/plain": [
       "(63, 7)"
      ]
     },
     "execution_count": 25,
     "metadata": {},
     "output_type": "execute_result"
    }
   ],
   "source": [
    "#checking dulpicates in books and removing\n",
    "#duplicates check\n",
    "x[x.title.duplicated()].shape"
   ]
  },
  {
   "cell_type": "code",
   "execution_count": 26,
   "metadata": {
    "ExecuteTime": {
     "end_time": "2021-03-30T05:06:42.982530Z",
     "start_time": "2021-03-30T05:06:42.976530Z"
    }
   },
   "outputs": [],
   "source": [
    "#since we dont want any dulpicates in books we are dropping the duplicates\n",
    "x = x.drop_duplicates(subset='title', keep='first')"
   ]
  },
  {
   "cell_type": "code",
   "execution_count": 27,
   "metadata": {
    "ExecuteTime": {
     "end_time": "2021-03-30T05:06:43.623495Z",
     "start_time": "2021-03-30T05:06:43.616494Z"
    }
   },
   "outputs": [
    {
     "data": {
      "text/plain": [
       "(526, 7)"
      ]
     },
     "execution_count": 27,
     "metadata": {},
     "output_type": "execute_result"
    }
   ],
   "source": [
    "#shape of the data\n",
    "x.shape"
   ]
  },
  {
   "cell_type": "markdown",
   "metadata": {},
   "source": [
    "# Recommendation based on book title and genre"
   ]
  },
  {
   "cell_type": "code",
   "execution_count": 28,
   "metadata": {
    "ExecuteTime": {
     "end_time": "2021-03-30T05:06:44.641391Z",
     "start_time": "2021-03-30T05:06:44.576386Z"
    }
   },
   "outputs": [],
   "source": [
    "#text to vector\n",
    "from sklearn.feature_extraction.text import TfidfVectorizer\n",
    "tf = TfidfVectorizer(analyzer='word',ngram_range=(1, 2),min_df=0, stop_words='english')\n",
    "tfidf_matrix = tf.fit_transform(x['genres'])"
   ]
  },
  {
   "cell_type": "code",
   "execution_count": 29,
   "metadata": {
    "ExecuteTime": {
     "end_time": "2021-03-30T05:06:45.053058Z",
     "start_time": "2021-03-30T05:06:45.015055Z"
    }
   },
   "outputs": [],
   "source": [
    "#cosine similarity\n",
    "from sklearn.metrics.pairwise import linear_kernel\n",
    "cosine_sim = linear_kernel(tfidf_matrix, tfidf_matrix)"
   ]
  },
  {
   "cell_type": "code",
   "execution_count": 30,
   "metadata": {
    "ExecuteTime": {
     "end_time": "2021-03-30T05:06:45.479505Z",
     "start_time": "2021-03-30T05:06:45.471505Z"
    }
   },
   "outputs": [],
   "source": [
    "#function to get 4 similar books based on genre\n",
    "# Build a 1-dimensional array with book names\n",
    "Name = x['title']\n",
    "indices = pd.Series(x.index, index=x['title'])\n",
    "\n",
    "# Function that get movie recommendations based on the cosine similarity score of movie genres\n",
    "def genre_recommendation(Name):\n",
    "    idx = indices[Name]\n",
    "    sim_scores = list(enumerate(cosine_sim[idx]))\n",
    "    sim_scores = sorted(sim_scores, key=lambda x: (x[1]).any(), reverse=True)\n",
    "    sim_scores = sim_scores[1:5]\n",
    "    book_indices = [i[0] for i in sim_scores]\n",
    "    return x['title'].iloc[book_indices]"
   ]
  },
  {
   "cell_type": "markdown",
   "metadata": {},
   "source": [
    "# TESTING"
   ]
  },
  {
   "cell_type": "code",
   "execution_count": 31,
   "metadata": {
    "ExecuteTime": {
     "end_time": "2021-03-30T05:06:46.392391Z",
     "start_time": "2021-03-30T05:06:46.380388Z"
    }
   },
   "outputs": [
    {
     "data": {
      "text/plain": [
       "22                               In a Sunburned Country\n",
       "23    I'm a Stranger Here Myself: Notes on Returning...\n",
       "24    The Lost Continent: Travels in Small Town America\n",
       "25            Neither Here nor There: Travels in Europe\n",
       "Name: title, dtype: object"
      ]
     },
     "execution_count": 31,
     "metadata": {},
     "output_type": "execute_result"
    }
   ],
   "source": [
    "genre_recommendation(\"Bill Bryson's African Diary\").head(4)"
   ]
  },
  {
   "cell_type": "code",
   "execution_count": 32,
   "metadata": {
    "ExecuteTime": {
     "end_time": "2021-03-30T05:06:48.528702Z",
     "start_time": "2021-03-30T05:06:47.043510Z"
    }
   },
   "outputs": [],
   "source": [
    "import warnings\n",
    "import pickle\n",
    "warnings.filterwarnings(\"ignore\")\n",
    "from flask import Flask, request, jsonify"
   ]
  },
  {
   "cell_type": "code",
   "execution_count": 33,
   "metadata": {
    "ExecuteTime": {
     "end_time": "2021-03-30T05:06:53.858198Z",
     "start_time": "2021-03-30T05:06:53.852195Z"
    }
   },
   "outputs": [],
   "source": [
    "\n",
    "# saving the model \n",
    "import pickle \n",
    "pickle_out = open(\"bookrec.pkl\", mode = \"wb\") \n",
    "pickle.dump(genre_recommendation, pickle_out) \n",
    "pickle_out.close()"
   ]
  },
  {
   "cell_type": "code",
   "execution_count": null,
   "metadata": {},
   "outputs": [],
   "source": []
  },
  {
   "cell_type": "code",
   "execution_count": null,
   "metadata": {},
   "outputs": [],
   "source": []
  },
  {
   "cell_type": "code",
   "execution_count": null,
   "metadata": {},
   "outputs": [],
   "source": []
  }
 ],
 "metadata": {
  "kernelspec": {
   "display_name": "Python 3",
   "language": "python",
   "name": "python3"
  },
  "language_info": {
   "codemirror_mode": {
    "name": "ipython",
    "version": 3
   },
   "file_extension": ".py",
   "mimetype": "text/x-python",
   "name": "python",
   "nbconvert_exporter": "python",
   "pygments_lexer": "ipython3",
   "version": "3.8.3"
  },
  "varInspector": {
   "cols": {
    "lenName": 16,
    "lenType": 16,
    "lenVar": 40
   },
   "kernels_config": {
    "python": {
     "delete_cmd_postfix": "",
     "delete_cmd_prefix": "del ",
     "library": "var_list.py",
     "varRefreshCmd": "print(var_dic_list())"
    },
    "r": {
     "delete_cmd_postfix": ") ",
     "delete_cmd_prefix": "rm(",
     "library": "var_list.r",
     "varRefreshCmd": "cat(var_dic_list()) "
    }
   },
   "types_to_exclude": [
    "module",
    "function",
    "builtin_function_or_method",
    "instance",
    "_Feature"
   ],
   "window_display": false
  }
 },
 "nbformat": 4,
 "nbformat_minor": 4
}
